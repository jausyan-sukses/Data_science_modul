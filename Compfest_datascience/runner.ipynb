{
 "cells": [
  {
   "cell_type": "code",
   "execution_count": 20,
   "id": "556e6a53",
   "metadata": {},
   "outputs": [],
   "source": [
    "import pandas as pd\n",
    "import matplotlib.pyplot as plt\n",
    "import seaborn as sns\n",
    "import numpy as np\n",
    "from sklearn.ensemble import RandomForestRegressor\n",
    "from sklearn.metrics import mean_squared_error \n",
    "from sklearn.model_selection import train_test_split\n"
   ]
  },
  {
   "cell_type": "code",
   "execution_count": 9,
   "id": "1c3e4502",
   "metadata": {},
   "outputs": [],
   "source": [
    "train = pd.read_csv('train.csv')\n",
    "test = pd.read_csv('test.csv')\n",
    "sample_submission = pd.read_csv('submission.csv')"
   ]
  },
  {
   "cell_type": "code",
   "execution_count": 3,
   "id": "95910346",
   "metadata": {},
   "outputs": [
    {
     "data": {
      "text/html": [
       "<div>\n",
       "<style scoped>\n",
       "    .dataframe tbody tr th:only-of-type {\n",
       "        vertical-align: middle;\n",
       "    }\n",
       "\n",
       "    .dataframe tbody tr th {\n",
       "        vertical-align: top;\n",
       "    }\n",
       "\n",
       "    .dataframe thead th {\n",
       "        text-align: right;\n",
       "    }\n",
       "</style>\n",
       "<table border=\"1\" class=\"dataframe\">\n",
       "  <thead>\n",
       "    <tr style=\"text-align: right;\">\n",
       "      <th></th>\n",
       "      <th>ID</th>\n",
       "      <th>date</th>\n",
       "      <th>cluster_id</th>\n",
       "      <th>electricity_consumption</th>\n",
       "      <th>temperature_2m_max</th>\n",
       "      <th>temperature_2m_min</th>\n",
       "      <th>apparent_temperature_max</th>\n",
       "      <th>apparent_temperature_min</th>\n",
       "      <th>sunshine_duration</th>\n",
       "      <th>daylight_duration</th>\n",
       "      <th>wind_speed_10m_max</th>\n",
       "      <th>wind_gusts_10m_max</th>\n",
       "      <th>wind_direction_10m_dominant</th>\n",
       "      <th>shortwave_radiation_sum</th>\n",
       "      <th>et0_fao_evapotranspiration</th>\n",
       "    </tr>\n",
       "  </thead>\n",
       "  <tbody>\n",
       "    <tr>\n",
       "      <th>0</th>\n",
       "      <td>cluster_1_2014-01-01</td>\n",
       "      <td>2014-01-01</td>\n",
       "      <td>cluster_1</td>\n",
       "      <td>358.032</td>\n",
       "      <td>10.8</td>\n",
       "      <td>4.2</td>\n",
       "      <td>5.5</td>\n",
       "      <td>0.4</td>\n",
       "      <td>53.003333</td>\n",
       "      <td>29787.533333</td>\n",
       "      <td>40.6</td>\n",
       "      <td>79.2</td>\n",
       "      <td>186.000000</td>\n",
       "      <td>1.176667</td>\n",
       "      <td>0.483333</td>\n",
       "    </tr>\n",
       "    <tr>\n",
       "      <th>1</th>\n",
       "      <td>cluster_2_2014-01-01</td>\n",
       "      <td>2014-01-01</td>\n",
       "      <td>cluster_2</td>\n",
       "      <td>548.247</td>\n",
       "      <td>12.2</td>\n",
       "      <td>4.3</td>\n",
       "      <td>8.6</td>\n",
       "      <td>-0.4</td>\n",
       "      <td>8195.656667</td>\n",
       "      <td>30650.350000</td>\n",
       "      <td>36.0</td>\n",
       "      <td>81.7</td>\n",
       "      <td>170.591118</td>\n",
       "      <td>3.383333</td>\n",
       "      <td>0.736667</td>\n",
       "    </tr>\n",
       "    <tr>\n",
       "      <th>2</th>\n",
       "      <td>cluster_3_2014-01-01</td>\n",
       "      <td>2014-01-01</td>\n",
       "      <td>cluster_3</td>\n",
       "      <td>758.303</td>\n",
       "      <td>12.9</td>\n",
       "      <td>-0.8</td>\n",
       "      <td>10.1</td>\n",
       "      <td>-4.9</td>\n",
       "      <td>16305.260000</td>\n",
       "      <td>31547.686667</td>\n",
       "      <td>20.9</td>\n",
       "      <td>44.3</td>\n",
       "      <td>159.467752</td>\n",
       "      <td>3.880000</td>\n",
       "      <td>0.716667</td>\n",
       "    </tr>\n",
       "    <tr>\n",
       "      <th>3</th>\n",
       "      <td>cluster_4_2014-01-01</td>\n",
       "      <td>2014-01-01</td>\n",
       "      <td>cluster_4</td>\n",
       "      <td>1072.077</td>\n",
       "      <td>10.8</td>\n",
       "      <td>4.7</td>\n",
       "      <td>6.7</td>\n",
       "      <td>0.6</td>\n",
       "      <td>9224.803333</td>\n",
       "      <td>30769.220000</td>\n",
       "      <td>34.7</td>\n",
       "      <td>82.8</td>\n",
       "      <td>184.339753</td>\n",
       "      <td>3.153333</td>\n",
       "      <td>0.676667</td>\n",
       "    </tr>\n",
       "    <tr>\n",
       "      <th>4</th>\n",
       "      <td>cluster_1_2014-01-02</td>\n",
       "      <td>2014-01-02</td>\n",
       "      <td>cluster_1</td>\n",
       "      <td>386.908</td>\n",
       "      <td>10.7</td>\n",
       "      <td>7.0</td>\n",
       "      <td>6.6</td>\n",
       "      <td>3.3</td>\n",
       "      <td>22372.000000</td>\n",
       "      <td>29850.226667</td>\n",
       "      <td>34.3</td>\n",
       "      <td>75.2</td>\n",
       "      <td>210.333465</td>\n",
       "      <td>3.640000</td>\n",
       "      <td>0.780000</td>\n",
       "    </tr>\n",
       "  </tbody>\n",
       "</table>\n",
       "</div>"
      ],
      "text/plain": [
       "                     ID        date cluster_id  electricity_consumption  \\\n",
       "0  cluster_1_2014-01-01  2014-01-01  cluster_1                  358.032   \n",
       "1  cluster_2_2014-01-01  2014-01-01  cluster_2                  548.247   \n",
       "2  cluster_3_2014-01-01  2014-01-01  cluster_3                  758.303   \n",
       "3  cluster_4_2014-01-01  2014-01-01  cluster_4                 1072.077   \n",
       "4  cluster_1_2014-01-02  2014-01-02  cluster_1                  386.908   \n",
       "\n",
       "   temperature_2m_max  temperature_2m_min  apparent_temperature_max  \\\n",
       "0                10.8                 4.2                       5.5   \n",
       "1                12.2                 4.3                       8.6   \n",
       "2                12.9                -0.8                      10.1   \n",
       "3                10.8                 4.7                       6.7   \n",
       "4                10.7                 7.0                       6.6   \n",
       "\n",
       "   apparent_temperature_min  sunshine_duration  daylight_duration  \\\n",
       "0                       0.4          53.003333       29787.533333   \n",
       "1                      -0.4        8195.656667       30650.350000   \n",
       "2                      -4.9       16305.260000       31547.686667   \n",
       "3                       0.6        9224.803333       30769.220000   \n",
       "4                       3.3       22372.000000       29850.226667   \n",
       "\n",
       "   wind_speed_10m_max  wind_gusts_10m_max  wind_direction_10m_dominant  \\\n",
       "0                40.6                79.2                   186.000000   \n",
       "1                36.0                81.7                   170.591118   \n",
       "2                20.9                44.3                   159.467752   \n",
       "3                34.7                82.8                   184.339753   \n",
       "4                34.3                75.2                   210.333465   \n",
       "\n",
       "   shortwave_radiation_sum  et0_fao_evapotranspiration  \n",
       "0                 1.176667                    0.483333  \n",
       "1                 3.383333                    0.736667  \n",
       "2                 3.880000                    0.716667  \n",
       "3                 3.153333                    0.676667  \n",
       "4                 3.640000                    0.780000  "
      ]
     },
     "execution_count": 3,
     "metadata": {},
     "output_type": "execute_result"
    }
   ],
   "source": [
    "train.head()"
   ]
  },
  {
   "cell_type": "code",
   "execution_count": 10,
   "id": "ec664e5e",
   "metadata": {},
   "outputs": [],
   "source": [
    "for df in [train, test]:\n",
    "    df['date'] = pd.to_datetime(df['date'])\n",
    "    df['year'] = df['date'].dt.year\n",
    "    df['month'] = df['date'].dt.month\n",
    "    df['day'] = df['date'].dt.day\n",
    "    df['weekday'] = df['date'].dt.weekday"
   ]
  },
  {
   "cell_type": "code",
   "execution_count": 14,
   "id": "7b793cd5",
   "metadata": {},
   "outputs": [
    {
     "name": "stdout",
     "output_type": "stream",
     "text": [
      "Kolom di train: Index(['ID', 'date', 'electricity_consumption', 'temperature_2m_max',\n",
      "       'temperature_2m_min', 'apparent_temperature_max',\n",
      "       'apparent_temperature_min', 'sunshine_duration', 'daylight_duration',\n",
      "       'wind_speed_10m_max', 'wind_gusts_10m_max',\n",
      "       'wind_direction_10m_dominant', 'shortwave_radiation_sum',\n",
      "       'et0_fao_evapotranspiration', 'year', 'month', 'day', 'weekday',\n",
      "       'cluster_id_cluster_1', 'cluster_id_cluster_2', 'cluster_id_cluster_3',\n",
      "       'cluster_id_cluster_4'],\n",
      "      dtype='object')\n",
      "Kolom di test: Index(['ID', 'date', 'cluster_id', 'temperature_2m_max', 'temperature_2m_min',\n",
      "       'apparent_temperature_max', 'apparent_temperature_min',\n",
      "       'sunshine_duration', 'daylight_duration', 'wind_speed_10m_max',\n",
      "       'wind_gusts_10m_max', 'wind_direction_10m_dominant',\n",
      "       'shortwave_radiation_sum', 'et0_fao_evapotranspiration', 'year',\n",
      "       'month', 'day', 'weekday'],\n",
      "      dtype='object')\n"
     ]
    }
   ],
   "source": [
    "print(\"Kolom di train:\", train.columns)\n",
    "print(\"Kolom di test:\", test.columns)\n"
   ]
  },
  {
   "cell_type": "code",
   "execution_count": 15,
   "id": "bd7b5f60",
   "metadata": {},
   "outputs": [],
   "source": [
    "for df in [train, test]:\n",
    "    if 'cluster_id' in df.columns:\n",
    "        df['cluster_id'] = df['cluster_id'].astype(str)\n",
    "        df_dummy = pd.get_dummies(df['cluster_id'], prefix='cluster')\n",
    "        df.drop(columns='cluster_id', inplace=True)\n",
    "        df[df_dummy.columns] = df_dummy\n"
   ]
  },
  {
   "cell_type": "code",
   "execution_count": 16,
   "id": "e200ce2c",
   "metadata": {},
   "outputs": [],
   "source": [
    "missing_cols = set(train.columns) - set(test.columns) - {'electricity_consumption'}\n",
    "for col in missing_cols:\n",
    "    test[col] = 0\n",
    "test = test[train.drop(columns=['electricity_consumption']).columns]"
   ]
  },
  {
   "cell_type": "code",
   "execution_count": 17,
   "id": "6274eb07",
   "metadata": {},
   "outputs": [],
   "source": [
    "X = train.drop(columns=['ID', 'date', 'electricity_consumption'])\n",
    "y = train['electricity_consumption']\n",
    "X_train, X_val, y_train, y_val = train_test_split(X, y, test_size=0.2, random_state=42)"
   ]
  },
  {
   "cell_type": "code",
   "execution_count": 18,
   "id": "d21eaf18",
   "metadata": {},
   "outputs": [
    {
     "data": {
      "text/html": [
       "<style>#sk-container-id-1 {color: black;}#sk-container-id-1 pre{padding: 0;}#sk-container-id-1 div.sk-toggleable {background-color: white;}#sk-container-id-1 label.sk-toggleable__label {cursor: pointer;display: block;width: 100%;margin-bottom: 0;padding: 0.3em;box-sizing: border-box;text-align: center;}#sk-container-id-1 label.sk-toggleable__label-arrow:before {content: \"▸\";float: left;margin-right: 0.25em;color: #696969;}#sk-container-id-1 label.sk-toggleable__label-arrow:hover:before {color: black;}#sk-container-id-1 div.sk-estimator:hover label.sk-toggleable__label-arrow:before {color: black;}#sk-container-id-1 div.sk-toggleable__content {max-height: 0;max-width: 0;overflow: hidden;text-align: left;background-color: #f0f8ff;}#sk-container-id-1 div.sk-toggleable__content pre {margin: 0.2em;color: black;border-radius: 0.25em;background-color: #f0f8ff;}#sk-container-id-1 input.sk-toggleable__control:checked~div.sk-toggleable__content {max-height: 200px;max-width: 100%;overflow: auto;}#sk-container-id-1 input.sk-toggleable__control:checked~label.sk-toggleable__label-arrow:before {content: \"▾\";}#sk-container-id-1 div.sk-estimator input.sk-toggleable__control:checked~label.sk-toggleable__label {background-color: #d4ebff;}#sk-container-id-1 div.sk-label input.sk-toggleable__control:checked~label.sk-toggleable__label {background-color: #d4ebff;}#sk-container-id-1 input.sk-hidden--visually {border: 0;clip: rect(1px 1px 1px 1px);clip: rect(1px, 1px, 1px, 1px);height: 1px;margin: -1px;overflow: hidden;padding: 0;position: absolute;width: 1px;}#sk-container-id-1 div.sk-estimator {font-family: monospace;background-color: #f0f8ff;border: 1px dotted black;border-radius: 0.25em;box-sizing: border-box;margin-bottom: 0.5em;}#sk-container-id-1 div.sk-estimator:hover {background-color: #d4ebff;}#sk-container-id-1 div.sk-parallel-item::after {content: \"\";width: 100%;border-bottom: 1px solid gray;flex-grow: 1;}#sk-container-id-1 div.sk-label:hover label.sk-toggleable__label {background-color: #d4ebff;}#sk-container-id-1 div.sk-serial::before {content: \"\";position: absolute;border-left: 1px solid gray;box-sizing: border-box;top: 0;bottom: 0;left: 50%;z-index: 0;}#sk-container-id-1 div.sk-serial {display: flex;flex-direction: column;align-items: center;background-color: white;padding-right: 0.2em;padding-left: 0.2em;position: relative;}#sk-container-id-1 div.sk-item {position: relative;z-index: 1;}#sk-container-id-1 div.sk-parallel {display: flex;align-items: stretch;justify-content: center;background-color: white;position: relative;}#sk-container-id-1 div.sk-item::before, #sk-container-id-1 div.sk-parallel-item::before {content: \"\";position: absolute;border-left: 1px solid gray;box-sizing: border-box;top: 0;bottom: 0;left: 50%;z-index: -1;}#sk-container-id-1 div.sk-parallel-item {display: flex;flex-direction: column;z-index: 1;position: relative;background-color: white;}#sk-container-id-1 div.sk-parallel-item:first-child::after {align-self: flex-end;width: 50%;}#sk-container-id-1 div.sk-parallel-item:last-child::after {align-self: flex-start;width: 50%;}#sk-container-id-1 div.sk-parallel-item:only-child::after {width: 0;}#sk-container-id-1 div.sk-dashed-wrapped {border: 1px dashed gray;margin: 0 0.4em 0.5em 0.4em;box-sizing: border-box;padding-bottom: 0.4em;background-color: white;}#sk-container-id-1 div.sk-label label {font-family: monospace;font-weight: bold;display: inline-block;line-height: 1.2em;}#sk-container-id-1 div.sk-label-container {text-align: center;}#sk-container-id-1 div.sk-container {/* jupyter's `normalize.less` sets `[hidden] { display: none; }` but bootstrap.min.css set `[hidden] { display: none !important; }` so we also need the `!important` here to be able to override the default hidden behavior on the sphinx rendered scikit-learn.org. See: https://github.com/scikit-learn/scikit-learn/issues/21755 */display: inline-block !important;position: relative;}#sk-container-id-1 div.sk-text-repr-fallback {display: none;}</style><div id=\"sk-container-id-1\" class=\"sk-top-container\"><div class=\"sk-text-repr-fallback\"><pre>RandomForestRegressor(random_state=42)</pre><b>In a Jupyter environment, please rerun this cell to show the HTML representation or trust the notebook. <br />On GitHub, the HTML representation is unable to render, please try loading this page with nbviewer.org.</b></div><div class=\"sk-container\" hidden><div class=\"sk-item\"><div class=\"sk-estimator sk-toggleable\"><input class=\"sk-toggleable__control sk-hidden--visually\" id=\"sk-estimator-id-1\" type=\"checkbox\" checked><label for=\"sk-estimator-id-1\" class=\"sk-toggleable__label sk-toggleable__label-arrow\">RandomForestRegressor</label><div class=\"sk-toggleable__content\"><pre>RandomForestRegressor(random_state=42)</pre></div></div></div></div></div>"
      ],
      "text/plain": [
       "RandomForestRegressor(random_state=42)"
      ]
     },
     "execution_count": 18,
     "metadata": {},
     "output_type": "execute_result"
    }
   ],
   "source": [
    "model = RandomForestRegressor(n_estimators=100, random_state=42)\n",
    "model.fit(X_train, y_train)"
   ]
  },
  {
   "cell_type": "code",
   "execution_count": 21,
   "id": "e39f5fcd",
   "metadata": {},
   "outputs": [
    {
     "name": "stdout",
     "output_type": "stream",
     "text": [
      "Validation RMSE: 30.9630\n"
     ]
    }
   ],
   "source": [
    "val_preds = model.predict(X_val)\n",
    "rmse = np.sqrt(mean_squared_error(y_val, val_preds))\n",
    "print(f\"Validation RMSE: {rmse:.4f}\")"
   ]
  },
  {
   "cell_type": "code",
   "execution_count": 22,
   "id": "d25f9868",
   "metadata": {},
   "outputs": [
    {
     "data": {
      "image/png": "[encoded data removed]",
      "text/plain": [
       "<Figure size 1200x600 with 1 Axes>"
      ]
     },
     "metadata": {},
     "output_type": "display_data"
    }
   ],
   "source": [
    "importances = model.feature_importances_\n",
    "features = X.columns\n",
    "indices = np.argsort(importances)[::-1]\n",
    "\n",
    "plt.figure(figsize=(12,6))\n",
    "plt.title(\"Feature Importances\")\n",
    "plt.bar(range(len(importances)), importances[indices], align=\"center\")\n",
    "plt.xticks(range(len(importances)), features[indices], rotation=90)\n",
    "plt.tight_layout()\n",
    "plt.show()"
   ]
  },
  {
   "cell_type": "code",
   "execution_count": 23,
   "id": "52bfea7e",
   "metadata": {},
   "outputs": [],
   "source": [
    "test_features = test.drop(columns=['ID', 'date'])\n",
    "test_preds = model.predict(test_features)"
   ]
  },
  {
   "cell_type": "code",
   "execution_count": 24,
   "id": "c144c560",
   "metadata": {},
   "outputs": [
    {
     "name": "stdout",
     "output_type": "stream",
     "text": [
      "Submission file created: submission_fixed.csv\n"
     ]
    }
   ],
   "source": [
    "submission = sample_submission.copy()\n",
    "submission['electricity_consumption'] = test_preds\n",
    "submission.to_csv(\"submission_fixed.csv\", index=False)\n",
    "print(\"Submission file created: submission_fixed.csv\")"
   ]
  }
 ],
 "metadata": {
  "kernelspec": {
   "display_name": "Python 3",
   "language": "python",
   "name": "python3"
  },
  "language_info": {
   "codemirror_mode": {
    "name": "ipython",
    "version": 3
   },
   "file_extension": ".py",
   "mimetype": "text/x-python",
   "name": "python",
   "nbconvert_exporter": "python",
   "pygments_lexer": "ipython3",
   "version": "3.8.10"
  }
 },
 "nbformat": 4,
 "nbformat_minor": 5
}
